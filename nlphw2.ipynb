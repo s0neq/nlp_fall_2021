{
  "nbformat": 4,
  "nbformat_minor": 0,
  "metadata": {
    "colab": {
      "name": "nlphw2.ipynb",
      "provenance": [],
      "collapsed_sections": []
    },
    "kernelspec": {
      "name": "python3",
      "display_name": "Python 3"
    },
    "language_info": {
      "name": "python"
    },
    "widgets": {
      "application/vnd.jupyter.widget-state+json": {
        "0816cdf4591e45a09082f590582f5657": {
          "model_module": "@jupyter-widgets/controls",
          "model_name": "HBoxModel",
          "model_module_version": "1.5.0",
          "state": {
            "_view_name": "HBoxView",
            "_dom_classes": [],
            "_model_name": "HBoxModel",
            "_view_module": "@jupyter-widgets/controls",
            "_model_module_version": "1.5.0",
            "_view_count": null,
            "_view_module_version": "1.5.0",
            "box_style": "",
            "layout": "IPY_MODEL_5cd2ef3745c44df4be6b1bb63cdbe81a",
            "_model_module": "@jupyter-widgets/controls",
            "children": [
              "IPY_MODEL_6ec1c035efb14d4a94ca1da3ee44afc0",
              "IPY_MODEL_693c00c23da04a45bd0045b7e587f12d",
              "IPY_MODEL_2efb044a68bc42678d98591d5dcac6ff"
            ]
          }
        },
        "5cd2ef3745c44df4be6b1bb63cdbe81a": {
          "model_module": "@jupyter-widgets/base",
          "model_name": "LayoutModel",
          "model_module_version": "1.2.0",
          "state": {
            "_view_name": "LayoutView",
            "grid_template_rows": null,
            "right": null,
            "justify_content": null,
            "_view_module": "@jupyter-widgets/base",
            "overflow": null,
            "_model_module_version": "1.2.0",
            "_view_count": null,
            "flex_flow": null,
            "width": null,
            "min_width": null,
            "border": null,
            "align_items": null,
            "bottom": null,
            "_model_module": "@jupyter-widgets/base",
            "top": null,
            "grid_column": null,
            "overflow_y": null,
            "overflow_x": null,
            "grid_auto_flow": null,
            "grid_area": null,
            "grid_template_columns": null,
            "flex": null,
            "_model_name": "LayoutModel",
            "justify_items": null,
            "grid_row": null,
            "max_height": null,
            "align_content": null,
            "visibility": null,
            "align_self": null,
            "height": null,
            "min_height": null,
            "padding": null,
            "grid_auto_rows": null,
            "grid_gap": null,
            "max_width": null,
            "order": null,
            "_view_module_version": "1.2.0",
            "grid_template_areas": null,
            "object_position": null,
            "object_fit": null,
            "grid_auto_columns": null,
            "margin": null,
            "display": null,
            "left": null
          }
        },
        "6ec1c035efb14d4a94ca1da3ee44afc0": {
          "model_module": "@jupyter-widgets/controls",
          "model_name": "HTMLModel",
          "model_module_version": "1.5.0",
          "state": {
            "_view_name": "HTMLView",
            "style": "IPY_MODEL_e70488e1b14341468109af589a8dba22",
            "_dom_classes": [],
            "description": "",
            "_model_name": "HTMLModel",
            "placeholder": "​",
            "_view_module": "@jupyter-widgets/controls",
            "_model_module_version": "1.5.0",
            "value": "",
            "_view_count": null,
            "_view_module_version": "1.5.0",
            "description_tooltip": null,
            "_model_module": "@jupyter-widgets/controls",
            "layout": "IPY_MODEL_65e6fb5ad22845698d41f63504eea2c0"
          }
        },
        "693c00c23da04a45bd0045b7e587f12d": {
          "model_module": "@jupyter-widgets/controls",
          "model_name": "FloatProgressModel",
          "model_module_version": "1.5.0",
          "state": {
            "_view_name": "ProgressView",
            "style": "IPY_MODEL_846a436bde8943c2a3d64eabd097de57",
            "_dom_classes": [],
            "description": "",
            "_model_name": "FloatProgressModel",
            "bar_style": "success",
            "max": 1,
            "_view_module": "@jupyter-widgets/controls",
            "_model_module_version": "1.5.0",
            "value": 1,
            "_view_count": null,
            "_view_module_version": "1.5.0",
            "orientation": "horizontal",
            "min": 0,
            "description_tooltip": null,
            "_model_module": "@jupyter-widgets/controls",
            "layout": "IPY_MODEL_4384a08bdf5f466e9f2e518d48ca479b"
          }
        },
        "2efb044a68bc42678d98591d5dcac6ff": {
          "model_module": "@jupyter-widgets/controls",
          "model_name": "HTMLModel",
          "model_module_version": "1.5.0",
          "state": {
            "_view_name": "HTMLView",
            "style": "IPY_MODEL_26792e6c941749abae64c5091f575d66",
            "_dom_classes": [],
            "description": "",
            "_model_name": "HTMLModel",
            "placeholder": "​",
            "_view_module": "@jupyter-widgets/controls",
            "_model_module_version": "1.5.0",
            "value": " 205999/? [00:43&lt;00:00, 4523.04it/s]",
            "_view_count": null,
            "_view_module_version": "1.5.0",
            "description_tooltip": null,
            "_model_module": "@jupyter-widgets/controls",
            "layout": "IPY_MODEL_0579736b577547338828606600f122e8"
          }
        },
        "e70488e1b14341468109af589a8dba22": {
          "model_module": "@jupyter-widgets/controls",
          "model_name": "DescriptionStyleModel",
          "model_module_version": "1.5.0",
          "state": {
            "_view_name": "StyleView",
            "_model_name": "DescriptionStyleModel",
            "description_width": "",
            "_view_module": "@jupyter-widgets/base",
            "_model_module_version": "1.5.0",
            "_view_count": null,
            "_view_module_version": "1.2.0",
            "_model_module": "@jupyter-widgets/controls"
          }
        },
        "65e6fb5ad22845698d41f63504eea2c0": {
          "model_module": "@jupyter-widgets/base",
          "model_name": "LayoutModel",
          "model_module_version": "1.2.0",
          "state": {
            "_view_name": "LayoutView",
            "grid_template_rows": null,
            "right": null,
            "justify_content": null,
            "_view_module": "@jupyter-widgets/base",
            "overflow": null,
            "_model_module_version": "1.2.0",
            "_view_count": null,
            "flex_flow": null,
            "width": null,
            "min_width": null,
            "border": null,
            "align_items": null,
            "bottom": null,
            "_model_module": "@jupyter-widgets/base",
            "top": null,
            "grid_column": null,
            "overflow_y": null,
            "overflow_x": null,
            "grid_auto_flow": null,
            "grid_area": null,
            "grid_template_columns": null,
            "flex": null,
            "_model_name": "LayoutModel",
            "justify_items": null,
            "grid_row": null,
            "max_height": null,
            "align_content": null,
            "visibility": null,
            "align_self": null,
            "height": null,
            "min_height": null,
            "padding": null,
            "grid_auto_rows": null,
            "grid_gap": null,
            "max_width": null,
            "order": null,
            "_view_module_version": "1.2.0",
            "grid_template_areas": null,
            "object_position": null,
            "object_fit": null,
            "grid_auto_columns": null,
            "margin": null,
            "display": null,
            "left": null
          }
        },
        "846a436bde8943c2a3d64eabd097de57": {
          "model_module": "@jupyter-widgets/controls",
          "model_name": "ProgressStyleModel",
          "model_module_version": "1.5.0",
          "state": {
            "_view_name": "StyleView",
            "_model_name": "ProgressStyleModel",
            "description_width": "",
            "_view_module": "@jupyter-widgets/base",
            "_model_module_version": "1.5.0",
            "_view_count": null,
            "_view_module_version": "1.2.0",
            "bar_color": null,
            "_model_module": "@jupyter-widgets/controls"
          }
        },
        "4384a08bdf5f466e9f2e518d48ca479b": {
          "model_module": "@jupyter-widgets/base",
          "model_name": "LayoutModel",
          "model_module_version": "1.2.0",
          "state": {
            "_view_name": "LayoutView",
            "grid_template_rows": null,
            "right": null,
            "justify_content": null,
            "_view_module": "@jupyter-widgets/base",
            "overflow": null,
            "_model_module_version": "1.2.0",
            "_view_count": null,
            "flex_flow": null,
            "width": "20px",
            "min_width": null,
            "border": null,
            "align_items": null,
            "bottom": null,
            "_model_module": "@jupyter-widgets/base",
            "top": null,
            "grid_column": null,
            "overflow_y": null,
            "overflow_x": null,
            "grid_auto_flow": null,
            "grid_area": null,
            "grid_template_columns": null,
            "flex": null,
            "_model_name": "LayoutModel",
            "justify_items": null,
            "grid_row": null,
            "max_height": null,
            "align_content": null,
            "visibility": null,
            "align_self": null,
            "height": null,
            "min_height": null,
            "padding": null,
            "grid_auto_rows": null,
            "grid_gap": null,
            "max_width": null,
            "order": null,
            "_view_module_version": "1.2.0",
            "grid_template_areas": null,
            "object_position": null,
            "object_fit": null,
            "grid_auto_columns": null,
            "margin": null,
            "display": null,
            "left": null
          }
        },
        "26792e6c941749abae64c5091f575d66": {
          "model_module": "@jupyter-widgets/controls",
          "model_name": "DescriptionStyleModel",
          "model_module_version": "1.5.0",
          "state": {
            "_view_name": "StyleView",
            "_model_name": "DescriptionStyleModel",
            "description_width": "",
            "_view_module": "@jupyter-widgets/base",
            "_model_module_version": "1.5.0",
            "_view_count": null,
            "_view_module_version": "1.2.0",
            "_model_module": "@jupyter-widgets/controls"
          }
        },
        "0579736b577547338828606600f122e8": {
          "model_module": "@jupyter-widgets/base",
          "model_name": "LayoutModel",
          "model_module_version": "1.2.0",
          "state": {
            "_view_name": "LayoutView",
            "grid_template_rows": null,
            "right": null,
            "justify_content": null,
            "_view_module": "@jupyter-widgets/base",
            "overflow": null,
            "_model_module_version": "1.2.0",
            "_view_count": null,
            "flex_flow": null,
            "width": null,
            "min_width": null,
            "border": null,
            "align_items": null,
            "bottom": null,
            "_model_module": "@jupyter-widgets/base",
            "top": null,
            "grid_column": null,
            "overflow_y": null,
            "overflow_x": null,
            "grid_auto_flow": null,
            "grid_area": null,
            "grid_template_columns": null,
            "flex": null,
            "_model_name": "LayoutModel",
            "justify_items": null,
            "grid_row": null,
            "max_height": null,
            "align_content": null,
            "visibility": null,
            "align_self": null,
            "height": null,
            "min_height": null,
            "padding": null,
            "grid_auto_rows": null,
            "grid_gap": null,
            "max_width": null,
            "order": null,
            "_view_module_version": "1.2.0",
            "grid_template_areas": null,
            "object_position": null,
            "object_fit": null,
            "grid_auto_columns": null,
            "margin": null,
            "display": null,
            "left": null
          }
        }
      }
    }
  },
  "cells": [
    {
      "cell_type": "markdown",
      "source": [
        "1. скачать данные"
      ],
      "metadata": {
        "id": "eTUALXUJaKHR"
      }
    },
    {
      "cell_type": "markdown",
      "source": [
        "Metadata includes descriptions, price, sales-rank, brand info, and co-purchasing links"
      ],
      "metadata": {
        "id": "rUUB1t3EaNt0"
      }
    },
    {
      "cell_type": "code",
      "source": [
        "! wget http://deepyeti.ucsd.edu/jianmo/amazon/metaFiles2/meta_Pet_Supplies.json.gz"
      ],
      "metadata": {
        "colab": {
          "base_uri": "https://localhost:8080/"
        },
        "id": "N1B8nSNKUKbL",
        "outputId": "b2b296de-7a5d-4622-cad0-b8244f937ca5"
      },
      "execution_count": null,
      "outputs": [
        {
          "output_type": "stream",
          "name": "stdout",
          "text": [
            "--2021-12-12 15:44:56--  http://deepyeti.ucsd.edu/jianmo/amazon/metaFiles2/meta_Pet_Supplies.json.gz\n",
            "Resolving deepyeti.ucsd.edu (deepyeti.ucsd.edu)... 169.228.63.50\n",
            "Connecting to deepyeti.ucsd.edu (deepyeti.ucsd.edu)|169.228.63.50|:80... connected.\n",
            "HTTP request sent, awaiting response... 200 OK\n",
            "Length: 284871978 (272M) [application/octet-stream]\n",
            "Saving to: ‘meta_Pet_Supplies.json.gz’\n",
            "\n",
            "meta_Pet_Supplies.j 100%[===================>] 271.67M  20.4MB/s    in 14s     \n",
            "\n",
            "2021-12-12 15:45:10 (19.6 MB/s) - ‘meta_Pet_Supplies.json.gz’ saved [284871978/284871978]\n",
            "\n"
          ]
        }
      ]
    },
    {
      "cell_type": "code",
      "metadata": {
        "id": "MVFMb-DeObT9",
        "colab": {
          "base_uri": "https://localhost:8080/",
          "height": 49,
          "referenced_widgets": [
            "0816cdf4591e45a09082f590582f5657",
            "5cd2ef3745c44df4be6b1bb63cdbe81a",
            "6ec1c035efb14d4a94ca1da3ee44afc0",
            "693c00c23da04a45bd0045b7e587f12d",
            "2efb044a68bc42678d98591d5dcac6ff",
            "e70488e1b14341468109af589a8dba22",
            "65e6fb5ad22845698d41f63504eea2c0",
            "846a436bde8943c2a3d64eabd097de57",
            "4384a08bdf5f466e9f2e518d48ca479b",
            "26792e6c941749abae64c5091f575d66",
            "0579736b577547338828606600f122e8"
          ]
        },
        "outputId": "bb57678e-450b-4d62-e874-059e03acb192"
      },
      "source": [
        "import pandas as pd\n",
        "import gzip\n",
        "from tqdm.notebook import tqdm\n",
        "import json\n",
        "from string import punctuation, digits\n",
        "import numpy as np\n",
        "import re\n",
        "\n",
        "def parse(path):\n",
        "    g = gzip.open(path, 'rb')\n",
        "    for l in g:\n",
        "        yield json.loads(l)\n",
        "\n",
        "def getDF(path):\n",
        "    i = 0\n",
        "    df = {}\n",
        "    for d in tqdm(parse(path)):\n",
        "        df[i] = d\n",
        "        i += 1\n",
        "    return pd.DataFrame.from_dict(df, orient='index')\n",
        "\n",
        "# df = getDF('Pet_Supplies.json.gz')# .iloc[:200000]\n",
        "meta = getDF('meta_Pet_Supplies.json.gz')"
      ],
      "execution_count": null,
      "outputs": [
        {
          "output_type": "display_data",
          "data": {
            "application/vnd.jupyter.widget-view+json": {
              "model_id": "0816cdf4591e45a09082f590582f5657",
              "version_minor": 0,
              "version_major": 2
            },
            "text/plain": [
              "0it [00:00, ?it/s]"
            ]
          },
          "metadata": {}
        }
      ]
    },
    {
      "cell_type": "markdown",
      "source": [
        "теперь таблица с отзывами"
      ],
      "metadata": {
        "id": "jmX2A9CtaFC3"
      }
    },
    {
      "cell_type": "code",
      "metadata": {
        "colab": {
          "base_uri": "https://localhost:8080/"
        },
        "id": "hUHUZ5p3KGCr",
        "outputId": "46432f43-5a26-4f90-d489-79d0a25bdb9c"
      },
      "source": [
        "# !wget http://snap.stanford.edu/data/amazon/productGraph/categoryFiles/reviews_Pet_Supplies_5.json.gz"
      ],
      "execution_count": null,
      "outputs": [
        {
          "output_type": "stream",
          "name": "stdout",
          "text": [
            "--2021-12-06 14:33:37--  http://snap.stanford.edu/data/amazon/productGraph/categoryFiles/reviews_Pet_Supplies_5.json.gz\n",
            "Resolving snap.stanford.edu (snap.stanford.edu)... 171.64.75.80\n",
            "Connecting to snap.stanford.edu (snap.stanford.edu)|171.64.75.80|:80... connected.\n",
            "HTTP request sent, awaiting response... 200 OK\n",
            "Length: 36119369 (34M) [application/x-gzip]\n",
            "Saving to: ‘reviews_Pet_Supplies_5.json.gz’\n",
            "\n",
            "reviews_Pet_Supplie 100%[===================>]  34.45M  32.5MB/s    in 1.1s    \n",
            "\n",
            "2021-12-06 14:33:38 (32.5 MB/s) - ‘reviews_Pet_Supplies_5.json.gz’ saved [36119369/36119369]\n",
            "\n"
          ]
        }
      ]
    },
    {
      "cell_type": "code",
      "metadata": {
        "id": "MyiJcfOyHqvS"
      },
      "source": [
        "import json"
      ],
      "execution_count": 1,
      "outputs": []
    },
    {
      "cell_type": "code",
      "metadata": {
        "id": "UqG3qzvcKfwQ"
      },
      "source": [
        "# import gzip"
      ],
      "execution_count": null,
      "outputs": []
    },
    {
      "cell_type": "code",
      "metadata": {
        "id": "BhAXTTFEK-Ul"
      },
      "source": [
        "import pandas as pd"
      ],
      "execution_count": 2,
      "outputs": []
    },
    {
      "cell_type": "code",
      "metadata": {
        "id": "l8wo8AU8KY-_"
      },
      "source": [
        "# dflist = []\n",
        "# arch = gzip.open('reviews_Pet_Supplies_5.json.gz', 'rb')\n",
        "# for jsn in arch:\n",
        "#     dflist.append(json.loads(jsn))\n",
        "\n",
        "# df = pd.DataFrame(dflist)"
      ],
      "execution_count": null,
      "outputs": []
    },
    {
      "cell_type": "code",
      "metadata": {
        "id": "tlrCs6TwMUWV"
      },
      "source": [
        "# df.to_csv('/content/drive/My Drive/pet_reviews.csv')"
      ],
      "execution_count": null,
      "outputs": []
    },
    {
      "cell_type": "code",
      "metadata": {
        "colab": {
          "base_uri": "https://localhost:8080/"
        },
        "id": "WPJWF7PVHeJR",
        "outputId": "52465df0-ea21-470e-ffae-0e9db180c8cb"
      },
      "source": [
        "from google.colab import drive\n",
        "drive.mount('/content/drive/')"
      ],
      "execution_count": 3,
      "outputs": [
        {
          "output_type": "stream",
          "name": "stdout",
          "text": [
            "Mounted at /content/drive/\n"
          ]
        }
      ]
    },
    {
      "cell_type": "code",
      "metadata": {
        "id": "d443lZBxMrVU"
      },
      "source": [
        "df = pd.read_csv('/content/drive/My Drive/pet_reviews.csv')"
      ],
      "execution_count": 4,
      "outputs": []
    },
    {
      "cell_type": "markdown",
      "source": [
        "сопоставление метаданных и таблицы с отзывами по колонке asin - ID of the product"
      ],
      "metadata": {
        "id": "OdARDs7aZ07C"
      }
    },
    {
      "cell_type": "code",
      "source": [
        "revs = df.merge(meta, on='asin')"
      ],
      "metadata": {
        "id": "0xWGUWObaBQV"
      },
      "execution_count": null,
      "outputs": []
    },
    {
      "cell_type": "code",
      "source": [
        "df = revs[['reviewText', 'title', 'brand', 'main_cat']]\n",
        "df = df.drop_duplicates(subset=['reviewText'])\n",
        "df.to_csv('/content/drive/My Drive/pet_revs_forhw.csv', index=False)"
      ],
      "metadata": {
        "id": "XgYoQHnZbr0n"
      },
      "execution_count": null,
      "outputs": []
    },
    {
      "cell_type": "markdown",
      "source": [
        "# загрузка с диска готовых данных"
      ],
      "metadata": {
        "id": "65HTayYyc45c"
      }
    },
    {
      "cell_type": "code",
      "source": [
        "import json\n",
        "import pandas as pd"
      ],
      "metadata": {
        "id": "bdZH0cHp2zJa"
      },
      "execution_count": 1,
      "outputs": []
    },
    {
      "cell_type": "code",
      "source": [
        "from google.colab import drive\n",
        "drive.mount('/content/drive/')"
      ],
      "metadata": {
        "colab": {
          "base_uri": "https://localhost:8080/"
        },
        "id": "ZdmcgrQ72q_a",
        "outputId": "8d6c0cc2-5ea1-42ff-d328-3aba50f0eb8a"
      },
      "execution_count": 2,
      "outputs": [
        {
          "output_type": "stream",
          "name": "stdout",
          "text": [
            "Mounted at /content/drive/\n"
          ]
        }
      ]
    },
    {
      "cell_type": "code",
      "source": [
        "df = pd.read_csv('/content/drive/My Drive/pet_revs_forhw.csv')"
      ],
      "metadata": {
        "id": "GcY3pq6Qc0Bw"
      },
      "execution_count": 3,
      "outputs": []
    },
    {
      "cell_type": "code",
      "source": [
        "df.info()"
      ],
      "metadata": {
        "colab": {
          "base_uri": "https://localhost:8080/"
        },
        "id": "404pfnN7dvE_",
        "outputId": "a0679674-d160-4c4b-d573-7dc1d5ff71bc"
      },
      "execution_count": 4,
      "outputs": [
        {
          "output_type": "stream",
          "name": "stdout",
          "text": [
            "<class 'pandas.core.frame.DataFrame'>\n",
            "RangeIndex: 94335 entries, 0 to 94334\n",
            "Data columns (total 4 columns):\n",
            " #   Column      Non-Null Count  Dtype \n",
            "---  ------      --------------  ----- \n",
            " 0   reviewText  94334 non-null  object\n",
            " 1   title       94335 non-null  object\n",
            " 2   brand       94322 non-null  object\n",
            " 3   main_cat    94335 non-null  object\n",
            "dtypes: object(4)\n",
            "memory usage: 2.9+ MB\n"
          ]
        }
      ]
    },
    {
      "cell_type": "code",
      "source": [
        "df.head()"
      ],
      "metadata": {
        "colab": {
          "base_uri": "https://localhost:8080/",
          "height": 204
        },
        "id": "toZe8wJWa6Xy",
        "outputId": "e1e0fef3-a2c7-4384-d96b-b6ab76e458c5"
      },
      "execution_count": 5,
      "outputs": [
        {
          "output_type": "execute_result",
          "data": {
            "text/html": [
              "<div>\n",
              "<style scoped>\n",
              "    .dataframe tbody tr th:only-of-type {\n",
              "        vertical-align: middle;\n",
              "    }\n",
              "\n",
              "    .dataframe tbody tr th {\n",
              "        vertical-align: top;\n",
              "    }\n",
              "\n",
              "    .dataframe thead th {\n",
              "        text-align: right;\n",
              "    }\n",
              "</style>\n",
              "<table border=\"1\" class=\"dataframe\">\n",
              "  <thead>\n",
              "    <tr style=\"text-align: right;\">\n",
              "      <th></th>\n",
              "      <th>reviewText</th>\n",
              "      <th>title</th>\n",
              "      <th>brand</th>\n",
              "      <th>main_cat</th>\n",
              "    </tr>\n",
              "  </thead>\n",
              "  <tbody>\n",
              "    <tr>\n",
              "      <th>0</th>\n",
              "      <td>I purchased the Trilogy with hoping my two cat...</td>\n",
              "      <td>Cat Sitter DVD Trilogy - Vol 1, Vol 2 and Vol 3</td>\n",
              "      <td>Go Cat / Sunrise</td>\n",
              "      <td>Pet Supplies</td>\n",
              "    </tr>\n",
              "    <tr>\n",
              "      <th>1</th>\n",
              "      <td>There are usually one or more of my cats watch...</td>\n",
              "      <td>Cat Sitter DVD Trilogy - Vol 1, Vol 2 and Vol 3</td>\n",
              "      <td>Go Cat / Sunrise</td>\n",
              "      <td>Pet Supplies</td>\n",
              "    </tr>\n",
              "    <tr>\n",
              "      <th>2</th>\n",
              "      <td>I bought the triliogy and have tested out all ...</td>\n",
              "      <td>Cat Sitter DVD Trilogy - Vol 1, Vol 2 and Vol 3</td>\n",
              "      <td>Go Cat / Sunrise</td>\n",
              "      <td>Pet Supplies</td>\n",
              "    </tr>\n",
              "    <tr>\n",
              "      <th>3</th>\n",
              "      <td>My female kitty could care less about these vi...</td>\n",
              "      <td>Cat Sitter DVD Trilogy - Vol 1, Vol 2 and Vol 3</td>\n",
              "      <td>Go Cat / Sunrise</td>\n",
              "      <td>Pet Supplies</td>\n",
              "    </tr>\n",
              "    <tr>\n",
              "      <th>4</th>\n",
              "      <td>If I had gotten just volume two, I would have ...</td>\n",
              "      <td>Cat Sitter DVD Trilogy - Vol 1, Vol 2 and Vol 3</td>\n",
              "      <td>Go Cat / Sunrise</td>\n",
              "      <td>Pet Supplies</td>\n",
              "    </tr>\n",
              "  </tbody>\n",
              "</table>\n",
              "</div>"
            ],
            "text/plain": [
              "                                          reviewText  ...      main_cat\n",
              "0  I purchased the Trilogy with hoping my two cat...  ...  Pet Supplies\n",
              "1  There are usually one or more of my cats watch...  ...  Pet Supplies\n",
              "2  I bought the triliogy and have tested out all ...  ...  Pet Supplies\n",
              "3  My female kitty could care less about these vi...  ...  Pet Supplies\n",
              "4  If I had gotten just volume two, I would have ...  ...  Pet Supplies\n",
              "\n",
              "[5 rows x 4 columns]"
            ]
          },
          "metadata": {},
          "execution_count": 5
        }
      ]
    },
    {
      "cell_type": "code",
      "source": [
        "for el in df['reviewText'].iloc[:50]:\n",
        "  print(el)"
      ],
      "metadata": {
        "colab": {
          "base_uri": "https://localhost:8080/"
        },
        "id": "YaCgmrgfiu2L",
        "outputId": "cd9006be-c6e2-4839-a2e2-da1d6400456a"
      },
      "execution_count": null,
      "outputs": [
        {
          "output_type": "stream",
          "name": "stdout",
          "text": [
            "I purchased the Trilogy with hoping my two cats, age 3 and 5 would be interested.  The 3 yr old cat was fascinated for about 15 minutes but when the same pictures came on, she got bored.  The 5 year old watched for about a few minutes but then walked away. It is possible that because we have a wonderful courtyard full of greenery and trees and one of my neighbors has a bird feeder, that there is enough going on outside that they prefer real life versus a taped version.  I will more than likely pass this on to a friend who has cats that don't have as much wildlife to watch as mine do.\n",
            "There are usually one or more of my cats watching TV and staying out of trouble when this DVD is playing.  They seem to like the mice and birds the most and maybe go a little less stir crazy being inside all the time.\n",
            "I bought the triliogy and have tested out all the DVDs.  It appears that volume 2 is the most well received of the three and the one I would recommend.  It's funny to watch my cat watch it bc she looks behind the TV trying to find the birds.  I turn this on sometimes when I'm leaving the house, by the time I get home, she doesn't seem to be paying attention anymore but figured she'd at least enjoy the sounds.\n",
            "My female kitty could care less about these videos-but she cares less about almost everything. My little male however digs these. He doesn't go ape over them, but he really does watch them for a bit and it makes me feel better to throw them on when I have to go out to work and leave him.\n",
            "If I had gotten just volume two, I would have given it five stars, but since I got the trilogy, I can only give it three stars.  I read all the reviews, and knew that vol. two was the best, hands down, but for few extra dollars I decided to get all three in a combo pack.  Since birds are a natural source of food for cats (feral) it was natural that they were instantly attracted to vol. two. Contrary to all the cartoons, cats are not fishermen, and thus, fish, either in a bowl or in the wild are not something they are naturally attracted to. Since gerbils and guinea pigs are not native where I live, they could have been little dogs as far as my cats could tell. Rodents are also a natural food, so volume one was much better than volume three. Also, the quality could have been better (for my eyes only) but my cats could care less about video quality... they just see birds..  LOL\n",
            "I have one female cat that weighs under 10 pounds and is about 15 years old.  I had used EverClean for years and really had no complaints.  Last year our cat, Poloma, started to urinate more frequently and my back was starting to hurt when I bent down to clean the clumps.I had seen the LitterMaid litter box advertised for several years and had always wondered if it could really be true and work as it was advertised.  Sorry, I finally gave in and purchased along with the tent top.The tent top came with several pieces missing/broken.  I called the company who asked me to fax the part numbers so they could forward them to me.  They sent me the wrong parts and I have not been able to get around to ask for them again.  I will though.The machine seems to work to not on the clumps of urine.  I have to now clean the clumps out DAILY rather than every few days.  The machine tries but is too weak to push,lift and dump.  INstead I walk into the room only to see the red blinking light which indicates a jam.I called the company and explained my problem.  The only advice they could give me was to be sure and use a quality clumping litter.  I would have though the high price I pay for Litter Green would have been considered quality clumping litter.  I am now looking for my fouth \"quality litter\" that might work with my single cat.As usual, if it looks too good to be true, it probably is.\n",
            "I bought 2 when I just got my kittens, they did work well for a couple of weeks maybe a month without a big issueVery noisy, a mess to change the containers, litter gets stuck all over the parts and the engine runs back and forth for hours!!Better than Purrforma\n",
            "As a foster furmomma for a cat rescue and a cat slave to my own cats, this prodcut is a dream come true and has been saving my life for 10 years now! Worth every penny you pay (if you avoid the high retail) and worth the time it saves.  Yes, they do break down, what doesn't?  But with a little care and obvious common sense these work for YEARS!  You do have to break them down a few times a year for a good cleaning and keep the track the rake rides in halfway clean, but otherwise still the best thing. I will never be without them or without a spare in the closet just in case!One suggestion is that the manufacturer scale back the side panels of the receptacle lid so that these can function in a smaller space when the rake hit it, such as in a  closet without hitting the doors.  I have 4 of these units in a closet, two on the floor and two on a shelf a little higher and have them side by side.  I broke one when the lid sides pushed against the back inside of the closet door when raking to the receptacle because someone had shut the closet dorr partially. So making those \"flaps\" shorter would greatly reduce the actual amount of space the units need to take up functionally.\n",
            "The Good Stuff: My cats love this litter box. When I'm cleaning it they pace around me like a child waiting for their teddy bear to come out of the wash. When I had one cat the bin needed to be emptied once a week. Now with 2 it's more like every 3 days. I line the bin with a little trash bag and it works great. No need to buy the expensive receptacles. Every so often I'll have to use the special litter scoop that comes with it to scrape some \"left over\" off the rake. It does make a noise but it's not that loud. I recommend leaving it in a closet or laundry room. Guests always ask why my boiler room is making noise. The noise doesn't bother my cats, they actually come running to watch it work. It is, however, the only litter box they've ever known.The Catch: I bought the box in April and had no problems until late October when I realized the box was getting very full. The censors had stopped working. I called their customer service, who's pre-recorded message makes you think you've called the wrong number (they start talking about tools), and spoke with some friendly but not 100% knowledgeable people. They gave me all kinds of instructions on how to fix it myself like dusting off the censors, \"re-setting\" the box by clicking the switches 10 times each, etc. All of these things I tried as they are in the instructions but I humored them. Finally they gave me instructions on how to get a new box so now I'm in the process of mailing the wire that powers the rake, the battery compartment cover, my receipt, and $10 so I can get a new one. I'm not too happy that I had to destroy my box with no guarantee they will send me a new one but I understand why they make you do it.The Moral of the Story: Nothing makes a cat happier than a clean littler box and now that it's broken I simply can't keep it clean enough for them (in their opinions). I'm going to get the replacement and use it until it breaks too but I think I'm going to look into the toilet training kit.\n",
            "I gave 5 stars because i've had three Litter Maids over about 12-13 years and have always been very grateful not to have to clean the catbox--i was able to forget about it for at least a couple of weeks at a time, sometimes much more. I have only one small cat.  You can't beat not having to think about the catbox, it's almost like not having one at all--compared to the old fashion litter box.I first saw the Litter Maid in the LA Times Magazine around 1995, there was a full page ad, and you could pay in three installments, it was expensive, at least a couple hundred.  Catbox scooping depressed me so i ordered one.  Mine worked right out of the box.it's always tricky putting the right amount of litter in.  If i put too much, it just keeps recycling and raking until i take some out.  Following the instructions, i found that there would be too much litter and the machine would malfunction, but if i put it lower than the limit line, it would be fine.I had some kind of technical problem in the beginning, i can't remember what, and was pleased with their tech support, they took care of me, way back then.After a few years, it stopped working and i gladly got another one.  At some point, i began using Litter Pearls cat litter in it when that first came out.  That was yet another technical advance for my situation.  The Litter Pearls absorbed the urine so there was less stuff getting scooped into the box, and i was able to go even longer without being reminded of the litter box.In the beginning, Litter Pearls was just regular little round pearls. Then, my pet store came out with \"lite tracking litter pearls\" which were not round. They made them irregular shaped and rough, to prevent tracking i guess. That new light tracking style did not agree with my Litter Maid.  It was too granular and it jammed up the mechanism.  My pet store stopped carrying the regular non-lite tracking kind of Litter Pearls, so i had to search for an alternative.The combination of those little round litter balls and the Litter Maid did great things for my quality of life.  I did not want to go backwards into using the old fashioned kind of litter. I was ready to buy the regular Litter Pearls from the company in another state, (i called around) if necessary, or on eBay, but i was able to find another brand that had the round balls in a local store, the brand is Litter Secret, i couldn't find the product on the web though.As long as i had the little round ball litter, not the lite tracking kind, my Litter Maid performed consistently.  The second one lasted several more years with never a mechanical problem.  Long ago, i got the tent. I would always use a tent with the Litter Maid.  For me, the less evidence of a litter box the better.The Litter Maid rake did not clean easily and with my policy of not paying a lot of attention to the litter box, eventually the second Litter Maid got messy and the price had come way down on them, so i decided rather than clean it, i'd just get a new one.  the motor was still working fine, there was no problem with it after several years. I just didn't feel like cleaning it, was working lots of overtime and my job and felt i could afford a new one. I've had the third one for several more years, it has been very low maintenance, no mechanical problems, i just have cleaned it every few weeks, i'm not sure how often, maybe 2 weeks, maybe more, it seems long between times when i have to deal with it.Recently it stopped working.  The light was on but without warning, it wouldn't become active, it just sat there.I got a Litter Robot to replace it, because of the great reviews and decided i would try a change, since LItter Robot will let you return it for 60 days.  I'm still evaluating the Litter Robot, but there are some things that so far, i like better about the Litter Maid, one is, i didnt' have to regularly clean the Litter Maid, just take out the plastic containers, and then do a big cleaning once in a great while.  I think i'm going to have to clean the Litter Robot more often.The Litter Maid plastic containers were easier for me to switch out and replace than the plastic bags for the Litter Robot, less struggle, less time spent bending over the \"dreaded area.\"  And more secure feeling because stiff plastic is thicker than a plastic bag.Being inside the tent, the LItter Maid didn't have anything directly exposed to open air, whereas the Robot sits there with its door open and litter sitting out there in contact with the rest of the world.  Having said all of that, the LItter Robot is very cool.  More ingenious than the LItter Maid.  anyone could dream up the LItter Maid.  It would take a special kind of mind to think up the Litter Robot.  Watching it do its thing is something to behold, in terms of human engineering.  I was very happy with the LItter Maid, my three worked reliably and flawlessly each one for many years.  I didn't have to deal with tech support.  But again, i had only one small cat.Oh, i almost forgot. My cat always liked to use only one side of the Litter Maid, so the waste would pile up on one end of the plastic container, causing it to fill up faster, only on that side, than it would if it had been distributed evenly.  When it fills up and doesn't close completely, that's when i can smell it and i go into action to change the container, but i alway would find that half the container wasn't used, it was empty on one side, full on the other. This never affected the mechanical performance of the Litter Maid itself.Update:  10/3/10I have just retired my most recent Litter Maid which i started using a year ago.  I was having a very hard time with it.  It worked well as far as the motor and everything it's supposed to do, but the problem  was with the litter (crystals). The crystals were getting saturated in only about 4 days and if i didn't change the litter, my cat would pee on the floor cover that i kept under the litter maid.  That is way too frequent to have to deal with cat sewage, by my standards.  Urine was getting all over the box and under the box. I thought the litter maid was leaking but couldn't find any openings.  It took me a long time to figure out that my cat's hyperthyroid condition was causing her to excessively urinate.  When i realized it, about two months ago, i doubled her medication and the problem has gone away. but she continued to refuse to use the Litter Maid, i think it must've developed an odor because of all the urine all over it, i tried to wipe it off but far from perfectly i'm sure.  Even though the crystals weren't saturated at all, she was peeing on the floor cover.  So i have just replaced the Litter Maid with a ScoopFree automatic box. So far it's working great. I took the Litter Maid outside, cleaned it as best i could with diluted Simple Green spray, it looks ok, i put it some big plastic bags and will keep it in the garage.  It has been working very well.  A real trooper.I want to say that i appreciate the Litter Maid, it served me well for about 16 or more years, about 5 of them over those years, two were thrown out not because they wore out but because they were dirty so in my experience they have worked well. I never had a problem with the motors, and i was always impressed at the way it just kept raking over and over, never giving out.This is different from some peoples' experience.  I want say that i have always used Litter Pearls crystals in the litter Maid, not clay or clumping litter, and that may be why i haven't had the same problems some have had.  I would recommend using crystal litter with it, but in my experience, it had to be the rounded kind, not the trackless/lite tracking kind which are irregularly shaped.  The trackless kind were too abrasive and jagged for the litter maid, they jammed it up, causing the rake to come to a painful creaking halt in mid cycle. But the rounded ones work well, they just aren't easy to find because people tend to prefer lite tracking litter.  But other than that, the crystals have always worked great in the Litter Maid.\n",
            "I am very happy with how long this product lasted.  Mine is a little over 8 years old, and it just broke the other day.  While i will admit the bins are kind of expensive and it is noisy...  It lasted for 8 years without any user error related issues!  7 of those years it was used by 2 cats, now just one.I am very happy with the product, and have every intention of replacing it!\n",
            "I have had littermaids for about 10 years. In those 10 years, I have had two of them in which they work awesome. I have 4 cats, and its awesome just having to dump the plastic waste holder out every day, or every other day and not have to worry about litter all over the place and scooping. I have my current unit in a closet, and with 4 cats it has worked great for the last two years! !Once the plastic lid and waste holder get a little worn, litter can fall between the crack which can be a pain, but I try to open the waste door carefully and pull the waste holder out gently to ensure the waste holders last a while before I have to replace...When this unit wears out, I will move up to the Elite, which is bigger. But going strong on two years, hopefully it will keep working hard!\n",
            "My previous Littermaid box was over 4 years old and finally quit (it's used by 2 cats daily).  After checking reviews on the newer Littermaid models, I decided to stay with the LM500 and I don't regret it. The litter box size is a little smaller than the old box, but it works great (my cats each weigh about 7-3/4 lbs, they're small cats, so the size difference wasn't a major problem). I have no regrets getting this model again.  Sometimes I have to scrape the kitty goo from the bottom of the box where it seeps and coagulates, but I had to do that with the old box too. When you change and clean the litter box section, wipe some baby oil on the bottom of the pan before you add new litter, it helps to lift the coagulated kitty goo more easily.\n",
            "Current version of littermaid does not work well at all. The first one I purchased lasted for five years and I was very happy with it. The pet store only had the larger version when I replaced the original. The larger version lasted for 15 months and then died.I found the old version (on Amazon). It worked for six days and then died. It was replaced at no charge. The second one worked for six weeks and then died. I have been told it is not possible to get my money back because it has been more that 30 days since the original purchase. So now I am out a wad of money and have to run the box manually.DO NOT buy this product. This system forced me to give this product at least one star, I would give it -5 if I could.\n",
            "We have from two to four cats at a time in our home, and managing the litter box is something we want to be as easy as possible. This LitterMaid LM500 Automated Litter Box was the first automated solution we tried. I'm afraid it wasn't our last, as it had numerous problems.First, the tines would get clumped full of stuff and it would get caked solid rather quickly. I'll note that we didn't even try having this be the \"only\" litter box in our home! We had two others there too. We just wanted to see how well this worked. The storage container would get jammed in the open position, so that it did not do a good job of managing stench.However, we could have dealt with those issues. We could have cleaned the tines daily, and pushed down the lid ourselves regularly. The real problem was far more serious.First, understand how this works. The system sense motion and then X minutes after the cat has left the area, the tines move across, dragging any solids and clumps with it, pushing those items into the receptacle plastic box at the far end. Then the tines return to their original position and wait for a new visit.What happened with our unit would be that the tines would decide that they were ALWAYS ON and would keep going back and forth, back and forth, driving the poor kitties to distraction. There was no way they were going to jump in there and try to do their business while a set of metal tines was growling towards them!We tried several times to fix this, but it really just wasn't worth it. We moved on to other options and found a GREAT one. This one went in the trash as we couldn't even imagine subjecting any other cat owner to it. A large waste of money.Not well recommended.I'll give it 2/5 stars on the assumption that some units do NOT do that random motion thing - but it would only take one fritz in a lifetime to really demolish a cat's desire to ever use the unit again :)\n",
            "I have owned two of these...the first was replaced for free by Walmart where I purchased it for the same price as here.  They are complex structures and I cannot imagine anyone who is not a handy man owning one for long.  I am and I find it a very poor implementation of a good design idea.The good...it works and it keeps the bin ready for the next use.The bad...it does not work for long before things get weak and then ultimately break it.  The thing still gets messed up and cleaning all the little corners and angles is a dirty job and it cannot be done with a hose because all the electronics are not protected in any way from water.  It is not a substitute when one goes away for more than 2 days.  I have two cats using this and not full time.  I needs to be emptied every two days. You must use good quality clumping litter.  The replacement canisters are expensive if you do not reuse them.  In fact, it is cheaper to just use a coventional litter pan and throw away the whole thing litter and all instead of using the refuse containers as throw away items.  The lids will fall off and need to be taped in place.My unit burned out when one of the cats pulled out the power cord at the end of the unit.  It just kept getting fuller and fuller and I was gone for a few days.  Even though it is supposed to be protected from running when blocked, when I returned I found the unit almost extended to the refuse bin and the stupid wire which hangs out in the middle of the box had been tangled by one of the poor cats trying to use the unit when it broke.  BAD DESIGN!I am ordering one of the rocking style units and returning my second unit.By the way, the best litter boxes have strong curves at all corners so they are easy to clean.  Keep that in mind.\n",
            "i'm a cat lover of the first order, and presently own4 Himalayan Seal Points.this product is a dream come true.with a little care and common sense, it does everything they say it does.after years of digging and scratching around in litterboxes myself, it's a joy to own something that brings the process into the 21st Century.some thoughts:use the premium litters they recommend. anything else, and you'llbe cleaning the rake and scraping the bottom of the tray more often than would be necessary.spray the bottom of the tray with silicone from time to time.it makes the operation much smoother.don't overfill it. the cats will naturally form mounds in the litter, in the process of trying to &quot;bury&quot; their waste,so smooth the litter around in the tray now and then, to keep it even.keep the unit set on a piece of old carpet, and keep a hand-vac  nearby. small granules make litter tracking a little more of an issue.forget about the tent.if you like to keep the box as clean as your cats probably like to have it, the tent makes the box impossible to get to, and work around in.the disposable trays are very handy. they're stiff plastic. line them with a small garbage bag, or wash them out and reuse them. throwing them out every time is an expensive proposition.keep your supply of litter next to the box. (i store it in one ofthose plastic stackable bins.) as the volume of litter is reducedjust add more as needed. you'll be dumping the whole tray a lot less often.with 4 cats, i clean the entire unit about once every two weeks.i use a lot less litter, and spend almost no time dealing with the waste itself.any issue with smell is easily dealt with by sprinkling a littlebaking soda in the waste receptcle from time to time.all in all it's a very fine product, that makes caring for yourpets much more efficient.\n",
            "I read all the GREAT reviews here and laid out the money to purchase this item. It's been a little over a year now and I'm about to throw mine out.The rake is a pain to clean ... especially if your pet ever has diarrhea (which mine did the first six months after we saved him from the pound). The rake also is super sensitive to overload and will go back and forth 3 or 4 times before giving up and flashing -- essentially jammed and unusable until you physically scoop the problem away, clean the rake and reset it. The sound of the rake going back and forth at all hours of the night is NOT a nice one and no matter what they say, this thing is STILL LOUD!You have to be really carefully about how much litter you put in the box and if your cat is like my boy and has a good size bladder you're in trouble.I purchased the tent to go with this, but didn't keep it on because it gets nasty too ... and I read that cats don't like to go to the bathroom in an enclosed space any more than we like porta potties!The cost of the plastic containers is prohibitative but at least they can be used over again. I usually scooped my plastic container and left it in until I cleaned the entire box out -- about once a month.If you have a small cat that is in perfect health and has nice neat tiddy excrement than maybe this product would work for you. As for me, I'm looking for a nice LARGE size old fashion litter box\n",
            "My downstairs neighbor bought one of these for her cat, Zipper, about eight months ago.  My tortoise shell, Lotta, who stays downstairs daytimes while I'm gone, fell in love with it, so I bought one for her birthday four months ago.I've read through the reviews and the unhappy experiences several people have had with it, but neighbor Shirley and myself have had no trouble at all with our units.  The cleaning isn't at all that difficult (does help to follow printed instructions...taking the thing apart as one person apparantly did isn't necessary).  The waste receptacles shouldn't need replacement more often than once every month or so.  And while the unit does make some noise, neither of us have found it excessive or particularly annoying.As noted, the above is based upon my experience with my littermaid as well as neighbor Shirley's experience with hers.  Each of us agree that it sure beats the heck out of scooping the litter out every day.  Also, we have noticed that less litter is required...probably because the unit operates about 10 minutes after use, before the urine soaks up a lot of the litter.\n",
            "When I received the Littermate it did not work. I called Littermate customer service. Tech support tried to reconcile the problem, but could not. So, they did replace it, for $10 more and I had to send them a bunch of proof of purchase stuff. At any rate, they did send me a new one, but it is very finicky, it sometimes works, even with premium clumping litter, it works sporadically, For such a costly product, it is disappointing.\n",
            "I thought I would have to purchase a new littermaid for my beloved cat Sushi.  Suddenly, the rake stopped working even though the power supply seemed to be working.  Yes, I was having all the problems that others mentionned like the rake's inability to deposit clumps into the receptacle and jamming. (I will have to give the spray coating with Pam a try.)  This time the unit simply would not move and there was nothing on the littermaid website that even came close to addressing the problem.  But...after contacting customer service, I learned that there seem to be two sensors/buttons that can be pushed in at both ends of the rake track. They are pretty small so look hard. In my case a small piece of litter caught by the button caused the malfunction.  We got the piece of litter out and the box is working again.  I still cannot give Littermaid a high rating because no matter how good the clumping litter, or how carefully I fill it, we still have problems with it being unable at times to effectively get rid of used litter.\n",
            "I'd like to note that the review I wrote below, I will not change, but I have this to add:  The thing needs semi regular cleaning. I mean cleaning completely, with a new coat of scotch-guard on the pan surface and fresh litter refilled.And that may not make a difference if you have a cat that aims for the plastic tines. And cleaning those is kinda nasty. I've noticed that a new version is out with metal tines.  Maybe the manufacturer's cat had good aim too.Since writing the review below we got a cat with exceptional aim. He could jam up that thing in one session. We were cleaning it every day, and finally opted this year to get a plain old deep rectangular litter pan with scoopable litter and ditch the Litter Maid.  Heck - we were in cleaning it everyday anyway due to our 'artistic' new cat.---------------------------------------I have three cats, all indoor, and you can imagine I've tried about every kind of litter to come up with something workable for both me and the cats.I've had a LitterMate (the larger size) for almost a year now and think this is the next best thing to sliced bread. we liked it so well, we've recently gotten the regular sized one as well since the cats were giving the one we had such a workout.Pros:Our dogs no longer go litter-diving for 'snacks'. The mechanism scares them and most of the contents are now hidden away in the plastic container.The cats are only fascinated by the workings of the litterbox and had no problem adjusting. The oldest was 6, the youngest 5 months.Scoopable litter + three cats previously meant 2-3 times a day  scooping the litterbox. One LitterMate + three cats = 2-3 times a week tray dumping.  The trays are easily reused, making them more economical.The box itself has been dumped and cleaned every other month. The comb is held in place by two screws and is easily removed from the engine to be cleaned. I soak the bottom pan and comb in an antibacterial  cleaner solution, and after it's dry use Scotchguard on both.The house I live in is small - there are few places to hide litterbox odor. This does it effectively.One of our cats like to dig his way to China when he covers his stuff.  I was worried that the scratches on the bottom of the pan would cause more sticking than normal, but a generous coating of Scotchguard keeps things moving along in spite of the battle scars in the LitterMaid.Cons:Yes - litter does escape underneath a little, but with the activities of three cats we were always vaccuming around the litter box anyway - no difference there.The litter flinging problem happened once to me - every time afterwards I threw the garbage bag on top of the tray while I removed it, then just tipped it into the bag. Again, no biggie.Tips:Those lines in the litterbox aren't kidding - don't fill the box over the red line, or the motor will jam.When they say Premium clumping litter, they mean it.  The alternative is a constantly jammed motor.Whenever you empty the tray, pass the scraper through the pan to make sure that nothing escaped the comb along the bottom. Those spots can build up and cause a jam too.If stuff sticks too often to the comb or bottom, it usually means it's time to dumb the entire box and clean and re-coat it with nonsitck spray. Not the non-stick spray used in cooking either.\n",
            "This thing has a number of problems with it. None really prevents it from performing its function (eventually) but all add up to a real pain. One problem is that the plastic boxes that the cat manure is scooped up into do not fit very well into their canister. As a result cat litter seeps through the gaps and you end up having to vacuum underneath every few days. It should not have been that difficult to make a better fitting plastic box or area where it is to be placed.A second problem is that the red \"fill\" line is misleading. If litter is filled up to that point (or even fairly close to it) the machine jams. As a result, to prevent jamming, one needs to fill the device with far below its full capacity. This, in turn, necessitates filling the machine with more cat litter than should be the case (i.e., twice a week instead of once).A third problem is that the rakes, many times, get jammed due to filling up with litter. The rakes should have been made further apart to reduce this.In short, the machine does do its job but with a few relatively minor modifications (that should have been easy to spot for the manufacturer) this machine could have been much improved._______________________________Update:After less than one year machine breaks down and needs to be replaced. Tech support provided by company of very limited use in even determining how (possibly) to fix the problem (assuming it can be to begin with). Hence a one star product.\n",
            "First off, it seems that someone is spamming the reviews.  Each of these glowing reviewers has never reviewed anything else on Amazon.  And when a bad review is posted you'll see several days worth of great reviews to push off the bad ones.  [edit: Note the new \"Amazon verified purchase\" label!  Beware of the glowing review from people who have not purchased this item.]Let me say, this is the biggest pile of junk you'll ever waste you're money on.  Even with high quality clumping litter it did not work.  The rake would get clogged.  The receptacle wouldn't close.  Litter stuck all over the place and in the tracks even though we were well below the \"fill line.\"  We spent more time cleaning this piece of junk than a regular litter box.  In less than a month we threw it out in the garbage.Do not waste your time and money on this product.  Stick with the regular litter, you'll be glad you did.\n",
            "I previously had a Mega which worked  a couple years. This one was a Total Disaster. Never could get rake to work, Littermaid customer service (once you finally get to is) was of little help and Orange Onion (don't buy anything from them) sucked. They couldn't care less, at least Littermaid apologized (on one of my three calls). Keep in mind, if you buy it and return it, do it through Littermaid. You only need to send back the battery cover and that blasted pull wire. To get that out ( NO help from Littermaid!), unscrew every single screw and once you get your hands on that wire, don't let it go! Or you have to take out the rest of the screws by the battery compartment. I wasted hours and hours on this. If only they had a good competitor. They're sending me the only thing available, the latest model that most people here seem to hate. sigh..if it doesn't work, I'm giving up totally on Littermaid. I have two cats, so it had its uses.\n",
            "I bought the largest LitterMaid off of Ebay in Jan 2003 from a Seller called KittenKaboodle. It took a few trials to find a litter that worked well but I settled on Scoop Away. Yes, as some reviewers have mentioned, sometimes it does stick to the bottom and you will have to use the scooper to scrape it up or clean the rakes sometimes. Then, I just turn it on and off and it will rake everything up.  It only takes me a few seconds to check for any stuck spots or even out the litter, turn it on and off to make it rake and then add a little new litter to the top (so the cats think it's nice and clean). :-) It's not completely \"no work\" but it is a lot less work than a \"manual\" litterbox and stays smelling cleaner than manual boxes.  I do use larger plastic grocery bags in the receptacle. It's a lot cheaper than throwing away receptacles every 3-4 days and it's alot easier to clean. Believe me, I do not like trying to pry those receptacles out when it is completely full.  You have to stick your fingers inside to grab onto it (YUCK!) and it's heavy and hard to get out sometimes dumping litter and stuff all over the place (double YUCK).The Seller on Ebay was selling the one I bought with a \"super charged\" motor (which is in the electrical cord). It worked pretty good for almost a year. Apparently, unlike the \"normal motor\", the stronger motor kept it from resetting sometimes when it would hit clumps that were too big for it.  It would attempt to plow right thru which sounds like a good thing, but it wasn't. Apparently the gears and/or sprokets which move the rake along are made of plastic and within a year they were stripped. It started out making a spinning sound once in awhile but would eventually go ahead and rake. One day I came home to a god awful sound. I found the rake stuck right in the middle of the box, gears just spinning and making a heck of a racket. This was enough to scare away ALL 4 cats from the ONLY litterbox. Needless to say we had some accidents. 3 of my cats \"recovered\" and would go back to the disconnected box, but my 20 year old cat was traumatized and refused to use it. So I had to set up the manual box. I'm STILL working with her trying to get her to stop going elsewhere because of this.I took the Littermaid to a repair shop and they knew immediately that the gears were stripped because they'd seen it before. They said they couldn't repair it because they couldn't get parts.I contacted the Ebay Seller who said it was still under warranty. I had to pay shipping to and from the Seller though which was not cheap. The 2nd supercharged Littermaid started doing the same thing after less than 6 months and the Seller says this one is not under warranty. Apparently, the warranty does not extend to the replacement that they sent me which I think is a rip-off considering how expensive these things are.While the 1st Littermaid was being repaired, I went ahead and bought another \"regular\" (not supercharged) Littermaid from Petsmart. I've had it 8 months and had no skipping problems so far. I think the \"supercharged\" motor caused all my problems, but KittenKaboodle refuses to acknowledge this and refused to warranty the 2nd box that they sent me.So, overall it's great when it works, but it could use a few improvements. The bottom of the pan needs to be made of something more \"non-stick\" so the rake can get thru some of the larger wet spots and/or the gears need to be made of something stronger to be able to take a stronger motor that can get thru the stuck on clumps (and not strip the gears). Also I would like to see a slightly larger receptacle on the larger models. They are made for a multi cat household but with only one litterbox it fills up pretty fast. With 2 litterboxes it's not too bad though. I would also like to see some sort of hood like other auto litterboxes that I've seen. That tent seems like a nuisance (it looks like it would block the on/off switch and collect litter in the box.)\n",
            "I saw this item advertised for a few years and always wondered if such a device could work.  I have one 12 year old cat who has begun to urinate more often.  I really never had a problem with her litter box until I hurt my back.I decided to bite the bullet and shell out $(...) for what looked like a solution to both her more frequent pees and my aching back.  Unfortunately, the product did not work.  It would rake the premium clumpable litter but could not get the ball of pee into the receptacle before getting jammed and backing off and attempting once again only to fail and return to its original position with the error light blinking.I contacted manufacturer by email only to be offered the feeble suggestion to try several other litter.  I went out and purchased three different premium clumpable litters and none faired better.PS.  Tent is not any better.  I also purchased a tent that is made to surround the litter box only to find several pieces for assembly so flimsy they broke.  I contacted manufacturer who asked me to email the part numbers and quantity needed.  I did and they sent me the WRONG parts.BSN\n",
            "I bought one of these for my 2 cat household because I hated cleaning the box. I also traveled quite a bit for work and liked the idea of the box cleaning itself while I was gone.The overall idea is good, and the cats used it with no adjustment. It seemed to work well when the tracks stayed clean, but...my male cat insisted on peeing in corners of the end where the motor and rake are. Then he kicked the damp litter up behind the rake mechanism and into the tracks the rake uses. The litter would clog the tracks so the rake would get stuck, and the litter behind the rake unit prevented it from returning all the way back. Cleaning it out seemed to only encourage him to do it again!They need to come up with a way to shield the rake and tracks from the litter or at least clean the tracks as it cleans the litter.If your cat(s) go in the middle of the box like they are \"supposed\" to this is a good product, albeit a bit expensive to use. But if your cats insist on on peeing on the moving parts, as mine did, it just becomes a big smelly paper weight.\n",
            "with so many different automated litterboxes on the market, i just chose this one based on the fact it's one of the newer ones, and littermaid is a more recognized brand.  i have 3 cats that go A LOT.  so it's important for me to get a litterbox that's minimal maintanence.1) the set-up is really easy.  i for one don't read directions, and it was simple enough.2) it was pretty  much what it claims to do, rake up clumped litter.3) the biggest problem i have so far is that it doesn't clean as well as i'd like it to.  little pieces of poop gets pass the rake, so i have to hand-scoop those.4) minor problem is that the capacity doesn't allow for you to use lotsa litter, since the rake can get stuck.  so if you have cats that pees a lot (like mine) the litter can get used up really quick and you would have to refill almost daily.  also the removable receptacle is really flimsy.  so it's kinda hard to reuse without breaking.  forces you to buy refills.5) all in all, it does save me a little bit of time, and it is much cleaner and smells less than a conventional litterbox.  i would recommend it if you have don't mind spending 100 bucks.  my cats seem to like it and find it amusing.\n",
            "Ok, I don't own this, but have thought about it. After discovering arm and hammer cat box deodorizer...I can live without the littemaid. I buy cheap litter because I've heard that clumping litter can be bad for kitties because they lick their paws and it can cause intestinal blockage. I keep the box, garbage bags, the litter and the deodorizer in the closet - every 3rd day or so I just dump the whole box and add new litter and the deodorizer. I do smell it right after the kitties go - but not shortly thereafter. Try this, if you are leary of buying the litter maid.  I rated it a 3 since I have no experience and it seems a lot of people hate this thing!\n",
            "I found out about these litterboxes by going into a pet store for cat supplies when I adopted my cat back in 2005. I liked the idea that I no longer would have to worry about having to scoop out cat waste or have a strong cat waste smell in my home.  I bought the LM920 which I found to have a quiet and decent motor. Unfortunately, it only lasted about three years.  Then I bought the LM900 as the LM920 was no longer made even though it is superior to the LM900 and quieter.  The first LM900 I bought lasted about a year and half, and I found the motor noisy and not very sturdy.  The second LM900 lasted about a year.  I bought the third LM900 and it only lasted two days before the rake stopped in the dumping into the receptacle mode and wouldn't move anymore.  I had to unscrew the rake so I could empty the receptacle which was full of lovely cat waste, dump the current amount of cat litter and return it to Amazon so I could get a replacement.  The replacement one broke also with the rake in the upright position so again, I had to unscrew the rake to get to the almost full receptacle to dump it out. Don't bother buying the Littermaid LM900 model as it is obviously doesn't last.  I went and bought the latest version of the Littermaid which is a LME9000 and it is better with a timer so the rake doesn't run during during a 9 hour duration but I still run into the rake getting stuck at various times and it also pushes unused litter into the receptacle.  I go through way more litter now which is frustrating but it does seem to have a stronger motor.\n",
            "I should have read the reviews before purchasing.This is incredibly finicky about precise fill level. I must have overfilled by 1/4\" or so, because it stopped working properly after the first day. The scooper still scooped but the thing seldom opened the lid of the receptacle.With such shallow litter, my cats had trouble digging and covering.The fact that a scoop is included in the package is informative.I gave it two stars instead of one because the charcoal filter does a good job of odor control. And another clock in the house is always handy.\n",
            "Frankly, this has taken WAY too long to invent!  Where was this 20 years ago?!!  Anyway, what a Godsend this thing is to our house.  I use the multi-cat formula litter in ours, even though we only have the single cat.  It just keeps things smelling nicer longer and you don't really have to worry about the mess.  My only complaint with this thing is that sometimes it scoops litter onto the floor but hey, that's what brooms are for!  We have ours in the basement so that really isn't much of a factor regarding the litter spillage.  However, I do still keep out a regular box just because ours likes to do one in one box, and the other in another box.  I'm tempted to get two of these Littermaids just so I don't have to worry about changing the other box!Ours gets clumps on the rake as well when our boy likes to urinate on it, but I just use a regular cat scooper and scrape it off.  Also, those refills are tremendously expensive so I do as the previous reviewer and just reuse them, fill them with a deodorizer (baking soda works great and it's cheap!), and voila!  I've not had any trouble with mine getting so full that I couldn't get it out to empty.  It snaps out pretty easily, even if there's quite a load there in it.This is one of the best products I've bought for a very long time and I'm very happy and glad that it's around.  My aunt has had two of these things for about 7 years, if that gives you any idea of how wonderful they are to have around.  Great product.\n",
            "I have two cats, I bought this to help keep things clean and tidy, well it was a disaster and here is why.There is a MAJOR design flaw in this litter box, it has no solid scoop only a rake-like feature to pick up the cat waste. Well that is lovely if the waste isn't in any way still damp but if it is watch out! With the rake-like feature it dug through the waste and stuck in the scooper all the time. Then it would reverse and push the unscooped waste into the mechanisim and it was just gross! I was useing premium clumping litter so it wasn't the litter. I spent more time cleaning this litter box than I did the old fashion kind. I finally threw this thing away after about 6-12 months of trying to deal with it. I went out and bought an old fashioned covered box, it is cleaner, smells better and doesn't constantly jam the way my Littermaid did.Maybe if you have one cat of small to average size or even two small cats this thing will work fine but if you have a large cat or multiple large cats this thing is a disaster!\n",
            "We have two of the Littermaid Mega LM900 litter boxes, and would buy another one.  They work reasonably well, and save a lot of scooping time & effort.  As other reviewers have noted, it works OK, but not perfect.  Help is needed at times, but it's still a big benefit to have.  The rakes need to be cleaned periodically, since the clumps are not fully dried after 10 minutes.  And the litter needs to be redistributed away from the collection box several times each week as a result of the rakes getting filled with wet clumps.  Our cats used it almost immediately after it was set up, and still seem to enjoy watching it operate.We have had one unit for about 18 months, and added a second recently.  Both work equally well.  We use plastic grocery bags in the collection box, which is easier than using the plastic boxes.  You may wish to add a timer to turn it off over-night, so it doesn't wake you.\n",
            "I have now purchased a total of 4 of these.  It seems that after 4-5 years the motors finally give out.  - However, that is 4-5 years of it sweeping the litter clean multiple times every day.I have three cats and I always have 2 of these boxes in use.  Primarily I bought them after I adopted a rescue kitten - who as it turned out, has the coronavirus that can cause Feline Infectious Peritonitis (FIP). Some apparently healthy cats may carry the virus which can be shed intermittently in bodily fluids or feces, with feces being the most common source of oral infection.She is completely healthy by all other standards - but if she or the other two catch a cold, or feel stressed etc., this coronavirus can surface. Much like a herpes virus in humans. And like the herpes virus it is easily transmitted. With cats the primary method that they transmit illness to each other is through feces.With the LitterMaid automatic box - the potential for all the cats to  step on or otherwise put a nose to each other's waste is almost completely eliminated. (with 2 boxes - I have never seen one cat go into a box right after a cat has used it. - They go to the other one, which is clean and ready for their use)And because I can work some very long hours. 16-18 hrs some days. I feel a bit more assured knowing the box is keeping itself clean.It does take a bit to get used to as far as the noise of the rake and what it takes to do a through clean.  But, as I like them so much for what they do that I don't mind the maintenance. Which isn't as involved as it would seem. It's actually rather simple to clean with a wet handrag and the occasional vacuum or dustbuster (which can be said of almost all litter boxes)Another advantage -- you don't need much litter and it goes much further.You do need to use a premium letter (I use 'the World's Best Litter') - but because it lasts as long as it does, it is a financial bargain.\n",
            "I've used these for about ten years and I keep a spare on hand because it is just a machine and it will eventually wear out, although I've never had one fail. The receptacles are expensive and difficult to clean, but there's a way to keep things clean and a receptacle can last a year or more. Just purchase a box or roll of 3 or 4 Quart trash bags. Try both to see which suits you best. Then simply put the bag in the receptacle, fold the sides and ends down and put the receptacle in the machine. When the receptacle is full just take out the receptacle, remove the bag with its contents, tie the top in a knot to contain the odor, and put it in the trash. The receptacle remains perfectly clean and can be used until it falls apart. This method has probably saved me many hundreds of dollars over the years and takes all the mess and cleaning out of the process.\n",
            "The LitterMaid can be a great help once you get accustomed to some of its irritating flaws.First, you have to be very careful not to overfill the tray. If you do, the rake can't complete its scan and goes back and forth, back and forth... You'd better hope that Fluffy doesn't have an urgent delivery to make at that point.Second, the machine is designed to require the use of proprietary, expensive, very fragile waste receptacles. You may work around this requirement by using plain grocery bags to line the receptacles, but after a few weeks of use the receptacles break anyway.Third, the capacity is lacking; When I got my second cat I found out I had to empty out the machine practically every day. If I waited for the second day, the container would overfill, sometimes because all the clumps were on the same side, keeping the lid open (you can imagine the smell)Finally, my youngest cat has a very fragile stomach. Well let me tell you, the raking process is not designed to handle runny poo. This was the last drop in the bucket, which prompted me to do some research on the web. Six months ago, I bought the litter-robot (litter-robot dot com), and my two cats and I couldn't be more satisfied.In summary, the LitterMaid is great if you only have one cat who never gets the runs. Otherwise, the Litter-Robot is a much better choice (but it costs twice as much)\n",
            "In a household with three adult cats I was constantly cleaning the litter box.  With the Littermaid LM900 I need only empty or replace the waste container about twice a week.  The litter is kept clean and smoothed by the automatic raking action.  Odors are minimal since waste is stored in a closed container and the exposed litter is continually cleaned.  Make sure you only use premium, clumping litter.  That's the good news.Now for the not so good news.  The unit is noisy with a capital \"N\".  Don't plan on placing it near the living spaces in your home if you value your peace and quiet.  Waste frequently lodges between the teeth on the rake so I'm finding myself visually checking anytime I'm near the unit and using my scoop to clear the rake.  About every other day I need to use the scoop to scrape along the bottom of the pan to loosen anything sticking to the bottom so the rake can catch it on the next pass.  Lastly, the included ramp which is supposed to keep your cat from tracking litter is a joke.  It simply isn't big enough and my cats usually jump over it rather than walk down it.  To solve the problem, I continue to leave a small area rug in front of the unit.  That seems to catch about 75% of the tracked litter. the unit isn't cheap.  Taking into account the noise and the other problems, I would still buy the unit if I had to do it over again primarily for the conveninence.\n",
            "This is my second Littermaid.  My first worked great but my cat died so I sold it on Ebay.  However, it always worked well but you have to use the correct litter or the Littermaid will not work as advertised.  I never had a problem with the motor failing or other issues I've read in these reviews.  I also read that if the motor jams there is a reset that many user may not know about and this may be a reason for so many returns.  Once again in the year I used it the motor never stopped working.  The box is a bit noisy so I wouldn't suggest setting this in a bedroom.  Also, there is a chance that the rake moving and noise may scare your cat and they will not want to use it. Try setting it up with the power off for a few days and then turn it on after the cat gets use to using the box. The only other issue is that there is a raking motion that pushes all the waste forward but it also pushes good litter with it so the end result is good litter gets dumped into the plastic bin.  I had the option of buying the newer unit but read so many bad reviews that I decided to go for one of the older models.  I also build a table with a hole in it.  Then I cut out the bottom of the plastic container that catches the waste.  Now the unit dumps the waste into a 13 gallon trash bag and I can go quite a while without emptying it.  With the stock container you can go about 3 days with one cat.  If I wasn't setting up the table and larger bag I would look more closely at the Smart Scoop.  It seems to waste less litter.\n",
            "I purchased this same Littermaid 3 years ago and it is still going strong. We have 3 littermaids, all different models for our 3 cats. I could not possible keep up with cleaning the litter and this sure helps me out a lot. We bought the permanent chute from Litterworks and my husband used an old entertainment center we got for next to nothing at goodwill and it fits 2 littermaids comfortably. If you look at littermaid disposal system at amazon[...] you will see what it sort of looks like. I love the LM9000 but I would agree the LME9000 (elite with the ionic air cleaner) does not work well and it gives littermaid a bad name. If you can find the basic ones I think they work better than the ionic air cleaner ones. We only empty our litter a couple of times a weeks as once it goes down the chute into the trash bag we only have to take the trash bag out. No, it does not smell, I also add a little baking soda to the trash bag but you do have to clean the littermaid occasionally just like any other litterbox, just not as much. I use Worlds Best Litter (corn litter) makes littermaid work easier and cuts down on the dust from litter. It is a shame that the elite's have sullied the littermaid product name. I hope they improve on it as I would like to buy a backup in case one of mine goes (I figure after 3 yrs it's due) but I won't buy another elite with the ionic (read moronic) air cleaner.\n",
            "I have gone through 2 of these in 5 years.  NEVER again will I purchase a a Littermaid.  This model died Monday after 2-1/2 years, but had been having problems with the rake running continuously until it finally cut off.  The cord finally snapped on Monday.  Not only the short lifespan considering the price, but I found myself spending nearly as much time cleaning the box as I did a regular old litter pan.  No matter what litter brand I tried, it adhered like mud to the bottom of the pan, would stick to the rake, and eventually cause the machine to cut off.Just purchased an Omega Paws, which has very good reviews and am eagerly awaiting its arrival today so the Littermaid can get tossed.Good idea, very poor longterm performance.\n",
            "My model 900 was great until last night. This was my 3rd littermaid. The last two didn't last too long. This one was less than 2 years old. Stops for unknown reason.  But, with a multiple cat household, it is so much more convenient that scooping all day long, and it is definitely much better on odor. However, for the price, it should not die so young. I did go out in a panic and bought no. 4,  cheaper version (though still expensive) the elite 5000 because it was the only one I could find, but I think I am going to regret it.  I'll see how it does, but  I hate to have to keep spending money like this, and I predict it won't last that long anyway.  Most of these machines can probably be fixed, a ex- littermaid repair person told me, but unless I can do it myself (he sent me a manual but I can't find it now,) it just doesn't pay to keep sending them back, and of course they didn't break until after the warranty ended.\n",
            "I have four of these and they are a great help.  Some of my cats a are a little finicky about their litterboxes and will stop using them if they're not perfectly clean.  Since I work all day and the cats are on their own, I can count on these self-cleaning litter boxes to keep the box up to my cats' high standards.My only complaint is LitterMaid's quality control can be a little inconsistent.  Over the years I've had defective units right out of the box a little more often than I'd like.  I don't think it's unique to LitterMaid, I've seen similar QC problems with just about anything made in China.  If LitterMaid has a choice, they really should reconsider where they're doing business.  It's at the point that if I have a choice between products either made in China or elsewhere, I choose the product NOT made in China just because I've been burned too many times by shoddy workmanship, even from supposedly name brand products.\n",
            "This machine never worked the way it was advertised to.  It cannot handle urine, the urine clumps and scooper gets caught on it.  This stresses the motor out to were it resets itself, thus not scooping anything.  Or if it does break through it, the clump crumbles to small enough pieces where it slips through the scooper and quickly starts to stink.  I tried five different types of litter, nothing improved the machines performance.  I ended up keeping a hand scooper and plastic bags available as I had to scoop and clean it myself.  The plastic mounts on the scooper ended up snapping of after two months of use.  The box is just messy and useless and hard to wash as you have to disassemble it. You might as well buy litter tray for $5, it will function 100 times better.  I use a plastic concrete mixing tray you can get at home depot for $6.  It looks just like a litter tray except it is about 2' x 3'.  If you got the room this is the way to go.If you decide to buy this auto-box save the receipt.  You will need itIf you want a good auto-box, get the one that uses the disposable trays with the blue crystals.  That is a good auto-box.\n",
            "I bought this product for $66 at Meijers.  The cats loved it and so did I, for the first 6 hours.  The kitty poo poo stuck to the rake, caused a jam and the entire rotating arm broke in a matter of hours.  I was so bummed. It would have made life so much easier.  Numerous reviews stated that the poos need to dry before they get raked.  This is true! C'mon you engineers.  This is the only product I would advocate animal testing on.  Great idea but a real mess to clean up.  It is getting returned tomorrow.  :(\n",
            "I've tried the lift-out sifter, which I abandoned after a day. I tried that one that you roll for which you have to buy the crystal litter which is $$$ and starts smelling immediately. The rolly thing was a nightmare. Compared to these, I LOVE the Littermaid. That being said I've found a few things are necessary to do to make it work at its best:1) Use Littermaid litter. Is more expensive but I don't have to constantly throw all of it out so I think I break even. It clumps perfectly and I get very few leavings.2) Empty the recepticals when they are half full. This will help avoid the vile spatter and spilling. Alternatively, seal the top down before taking out the bottom section and then pull the whole thing out, empty it and then put the old set back (I definitely reuse them).3) Don't bother with the tent. It's huge, the opening isn't wide enough to fully open the litter cover when you go to empty it and if your cat is as vigorous as mine at covering the litter, it will get in between the box and tent and is hard to clean. I find the height of the littermaid is enough that he doesn't fling litter out the back or sides, just occasionally over the litter recepticle when it's getting too full.\n",
            "Worked great for a week.  What a waste of $200 (I got the \"Mega\").****update*****After my disaster with the Mega I broke down and bought the \"LitterRobot\" for $400 (I travel and an automated litterbox is a must, not an option).  Extremely well built but the cats won't get near it.  The kitten loves it but isn't heavy enough to \"trip\" it so I have to initiate the cycle myself (not handy when I'm gone).  I saw the \"Plus\" version of the LitterMaid at Walmart for $88 and decided to give it a try.  What a little dynamo. It's smaller than the Mega but it almost seems like the motor size was the same.  Everything the Mega did was a struggle but in this smaller version it's doing great!!!!  This has been a godsend.  The \"Plus model\" can plow through anything.  Takes up much less room (note to the LitterMaid designers- bigger may have sounded like a better sell but my cats only get in it one at a time).  And if it goes out, at least it wasn't $200.  This version gets FIVE STARS from me!\n",
            "The plastic rake is spaced in a way that it won't work with my, and my cat's, favorite litter.  Yes it's a clumping litter.  Also the tongs on the rake are very wide.  This litterbox scoops a lot of clean litter into the bin (even with the smallest clumping litter I could find).  It wastes a LOT of litter, pretty much just indiscriminately scooping everything in it's path into the bin... more of a shovel, than a rake IMO.  In order to not waste more litter than is used, I would have to dump out the bin and scoop that in order to save the wasted clean litter.... far more of a hassle than useful.I would not repurchase this item, nor would I recommend it to a friend.... an enemy.... maybe.\n",
            "Over the years we have owned a couple of these and this model by far has been the best.  Yes, it does get a little gummed up in the corners beside the rake, but in my experience owning 4 cats, this sure beats emptying litter boxes daily.  I would recommend this to any cat owner that is tired of daily litter box duty.\n"
          ]
        }
      ]
    },
    {
      "cell_type": "markdown",
      "source": [
        ""
      ],
      "metadata": {
        "id": "fAKkAg8dlPh8"
      }
    },
    {
      "cell_type": "markdown",
      "metadata": {
        "id": "qsX__zQvNgo9"
      },
      "source": [
        "## (3 балла) Предложите 3 способа найти упоминания товаров в отзывах"
      ]
    },
    {
      "cell_type": "markdown",
      "source": [
        "1. rule-based подход: написать правила и шаблоны с помощью natasha/yargy. для этого понадобятся тексты отзывов и названия товаров из метадаты в качестве дополнительных ключевых слов, которые можно использовать при составлении правил (раз уж они доступны для скачивания). недостатки: подразумевает много ручной работы, поэтому не очень подходит для моих данных, которые довольно разнообразны. есть еще вариант выделить подкатегории среди pet supplies, например, еда, игрушки, dvds (не знала, что такие существуют, лол) и тогда возможно легче будет написать правила в зависимости от категорий. но все равно очень сложно перечислить все возможные варианты шаблонов. достоинства метода: при хорошо составленных правилах результат должен быть точнее, чем при совсем автоматическом выделении NE"
      ],
      "metadata": {
        "id": "jtvYd8w_eApy"
      }
    },
    {
      "cell_type": "markdown",
      "source": [
        "2. Classification-based подход: разметить часть корпуса, обучить на ней нейронную сеть, которая определяет, является ли NE данная ей на вход последовательность символов. недостатки: нужно разметить корпус это ручная работа. достоинства метода: будучи обучена на отзывах конкретной категории, модель будет подстроена под нужные данные. модель должна работать лучше чем rule-based подход на новых данных. \n",
        "понадобятся тексты отзывов, названия товаров из метадаты в качестве помощи аннотаторам train данных\n",
        "\n"
      ],
      "metadata": {
        "id": "HcCCgJtBfjce"
      }
    },
    {
      "cell_type": "markdown",
      "source": [
        "3. выделить ключевые слова и коллокации, отфильтровать. понадобится колонка title с названием товара, логично предположить, что там сконцентрированы нужные нам ключевые слова. достоинства: простой метод, без ручной работы. недостатки: не задействованы сами тексты отзывов, в которых можно найти синонимы названий товаров, которые не встречаются в title"
      ],
      "metadata": {
        "id": "yC8Z6qy3foyP"
      }
    },
    {
      "cell_type": "markdown",
      "metadata": {
        "id": "pDMAd8ewNpiY"
      },
      "source": [
        "## (2 балла) Реализуйте один из предложенных вами способов."
      ]
    },
    {
      "cell_type": "code",
      "source": [
        "from string import punctuation\n",
        "punctuation += \"...-\""
      ],
      "metadata": {
        "id": "0H40OVbpv6dg"
      },
      "execution_count": 6,
      "outputs": []
    },
    {
      "cell_type": "code",
      "source": [
        "import nltk\n",
        "nltk.download('stopwords')\n",
        "from nltk.corpus import stopwords\n",
        "stop = stopwords.words('english')"
      ],
      "metadata": {
        "colab": {
          "base_uri": "https://localhost:8080/"
        },
        "id": "_7hde1JTv3uM",
        "outputId": "ffe1a700-170c-4116-9688-1525a33cebbb"
      },
      "execution_count": 7,
      "outputs": [
        {
          "output_type": "stream",
          "name": "stdout",
          "text": [
            "[nltk_data] Downloading package stopwords to /root/nltk_data...\n",
            "[nltk_data]   Unzipping corpora/stopwords.zip.\n"
          ]
        }
      ]
    },
    {
      "cell_type": "markdown",
      "source": [
        "tfidf с учетом биграмм и триграмм\n",
        "\n",
        "ngram_range=(1,3)"
      ],
      "metadata": {
        "id": "NzG-TG-p3_gu"
      }
    },
    {
      "cell_type": "markdown",
      "source": [
        "в названиях к ревью собственно уже собраны ключевые слова, выделим из них самые важные"
      ],
      "metadata": {
        "id": "EpPh9P4dI2f0"
      }
    },
    {
      "cell_type": "code",
      "source": [
        "import re\n",
        "\n",
        "def delete_trash(text):\n",
        "    text = str(text)\n",
        "    for ch in punctuation:\n",
        "        text = text.replace(ch, \"\").lower()\n",
        "    for ch in '0123456789':\n",
        "        text = text.replace(ch, \"\").lower()\n",
        "    # delete non-english characters\n",
        "    for ch in text:\n",
        "        if not ch.isascii():\n",
        "            text = text.replace(ch, \"\")\n",
        "    return re.sub(\"\\s+\", \" \", text.strip())"
      ],
      "metadata": {
        "id": "p_-smDkY5RiF"
      },
      "execution_count": 8,
      "outputs": []
    },
    {
      "cell_type": "code",
      "source": [
        "df['clean'] = df['title'].apply(delete_trash)"
      ],
      "metadata": {
        "id": "exyOQPbLJKxi"
      },
      "execution_count": 9,
      "outputs": []
    },
    {
      "cell_type": "code",
      "source": [
        "df.head()"
      ],
      "metadata": {
        "colab": {
          "base_uri": "https://localhost:8080/",
          "height": 289
        },
        "id": "jVBocCzFL8Ic",
        "outputId": "98ef9d5a-37c6-494c-9505-a58d1ccba66d"
      },
      "execution_count": 10,
      "outputs": [
        {
          "output_type": "execute_result",
          "data": {
            "text/html": [
              "<div>\n",
              "<style scoped>\n",
              "    .dataframe tbody tr th:only-of-type {\n",
              "        vertical-align: middle;\n",
              "    }\n",
              "\n",
              "    .dataframe tbody tr th {\n",
              "        vertical-align: top;\n",
              "    }\n",
              "\n",
              "    .dataframe thead th {\n",
              "        text-align: right;\n",
              "    }\n",
              "</style>\n",
              "<table border=\"1\" class=\"dataframe\">\n",
              "  <thead>\n",
              "    <tr style=\"text-align: right;\">\n",
              "      <th></th>\n",
              "      <th>reviewText</th>\n",
              "      <th>title</th>\n",
              "      <th>brand</th>\n",
              "      <th>main_cat</th>\n",
              "      <th>clean</th>\n",
              "    </tr>\n",
              "  </thead>\n",
              "  <tbody>\n",
              "    <tr>\n",
              "      <th>0</th>\n",
              "      <td>I purchased the Trilogy with hoping my two cat...</td>\n",
              "      <td>Cat Sitter DVD Trilogy - Vol 1, Vol 2 and Vol 3</td>\n",
              "      <td>Go Cat / Sunrise</td>\n",
              "      <td>Pet Supplies</td>\n",
              "      <td>cat sitter dvd trilogy vol vol and vol</td>\n",
              "    </tr>\n",
              "    <tr>\n",
              "      <th>1</th>\n",
              "      <td>There are usually one or more of my cats watch...</td>\n",
              "      <td>Cat Sitter DVD Trilogy - Vol 1, Vol 2 and Vol 3</td>\n",
              "      <td>Go Cat / Sunrise</td>\n",
              "      <td>Pet Supplies</td>\n",
              "      <td>cat sitter dvd trilogy vol vol and vol</td>\n",
              "    </tr>\n",
              "    <tr>\n",
              "      <th>2</th>\n",
              "      <td>I bought the triliogy and have tested out all ...</td>\n",
              "      <td>Cat Sitter DVD Trilogy - Vol 1, Vol 2 and Vol 3</td>\n",
              "      <td>Go Cat / Sunrise</td>\n",
              "      <td>Pet Supplies</td>\n",
              "      <td>cat sitter dvd trilogy vol vol and vol</td>\n",
              "    </tr>\n",
              "    <tr>\n",
              "      <th>3</th>\n",
              "      <td>My female kitty could care less about these vi...</td>\n",
              "      <td>Cat Sitter DVD Trilogy - Vol 1, Vol 2 and Vol 3</td>\n",
              "      <td>Go Cat / Sunrise</td>\n",
              "      <td>Pet Supplies</td>\n",
              "      <td>cat sitter dvd trilogy vol vol and vol</td>\n",
              "    </tr>\n",
              "    <tr>\n",
              "      <th>4</th>\n",
              "      <td>If I had gotten just volume two, I would have ...</td>\n",
              "      <td>Cat Sitter DVD Trilogy - Vol 1, Vol 2 and Vol 3</td>\n",
              "      <td>Go Cat / Sunrise</td>\n",
              "      <td>Pet Supplies</td>\n",
              "      <td>cat sitter dvd trilogy vol vol and vol</td>\n",
              "    </tr>\n",
              "  </tbody>\n",
              "</table>\n",
              "</div>"
            ],
            "text/plain": [
              "                                          reviewText  ...                                   clean\n",
              "0  I purchased the Trilogy with hoping my two cat...  ...  cat sitter dvd trilogy vol vol and vol\n",
              "1  There are usually one or more of my cats watch...  ...  cat sitter dvd trilogy vol vol and vol\n",
              "2  I bought the triliogy and have tested out all ...  ...  cat sitter dvd trilogy vol vol and vol\n",
              "3  My female kitty could care less about these vi...  ...  cat sitter dvd trilogy vol vol and vol\n",
              "4  If I had gotten just volume two, I would have ...  ...  cat sitter dvd trilogy vol vol and vol\n",
              "\n",
              "[5 rows x 5 columns]"
            ]
          },
          "metadata": {},
          "execution_count": 10
        }
      ]
    },
    {
      "cell_type": "code",
      "source": [
        "# df['clean_reviews'] = df['reviewText'].apply(delete_trash)"
      ],
      "metadata": {
        "id": "4bFp1PeBL44d"
      },
      "execution_count": 105,
      "outputs": []
    },
    {
      "cell_type": "code",
      "source": [
        "titles = set(df['clean'].unique())"
      ],
      "metadata": {
        "id": "YFtJtDWsJTsd"
      },
      "execution_count": 11,
      "outputs": []
    },
    {
      "cell_type": "code",
      "source": [
        "from sklearn.feature_extraction.text import TfidfVectorizer"
      ],
      "metadata": {
        "id": "jKe_UFyo4FBC"
      },
      "execution_count": 12,
      "outputs": []
    },
    {
      "cell_type": "code",
      "source": [
        "vectorizer=TfidfVectorizer(ngram_range=(1,3),max_features=1000,stop_words=stop)\n",
        "X = vectorizer.fit_transform(titles)"
      ],
      "metadata": {
        "id": "ZQiy15em5_Ot"
      },
      "execution_count": 13,
      "outputs": []
    },
    {
      "cell_type": "code",
      "source": [
        "X.shape"
      ],
      "metadata": {
        "colab": {
          "base_uri": "https://localhost:8080/"
        },
        "id": "-2TpdPZD_yGw",
        "outputId": "4a7d8a55-4ca6-46b5-baae-9cca76eae619"
      },
      "execution_count": 14,
      "outputs": [
        {
          "output_type": "execute_result",
          "data": {
            "text/plain": [
              "(4820, 1000)"
            ]
          },
          "metadata": {},
          "execution_count": 14
        }
      ]
    },
    {
      "cell_type": "code",
      "source": [
        "X = X.toarray()"
      ],
      "metadata": {
        "id": "2LfkuGFlPO-C"
      },
      "execution_count": 15,
      "outputs": []
    },
    {
      "cell_type": "code",
      "source": [
        "feats = vectorizer.get_feature_names_out()"
      ],
      "metadata": {
        "id": "dZjNH2caPkFQ"
      },
      "execution_count": 16,
      "outputs": []
    },
    {
      "cell_type": "code",
      "source": [
        "import numpy as np"
      ],
      "metadata": {
        "id": "PRGh-29VlEs7"
      },
      "execution_count": 18,
      "outputs": []
    },
    {
      "cell_type": "code",
      "source": [
        "n = 1\n",
        "kws_ind = np.unique((-X).argsort()[:,:n]) # top n key word for every text, then unique"
      ],
      "metadata": {
        "id": "zKXP0wJIPTGC"
      },
      "execution_count": 19,
      "outputs": []
    },
    {
      "cell_type": "code",
      "source": [
        "len(kws_ind)"
      ],
      "metadata": {
        "colab": {
          "base_uri": "https://localhost:8080/"
        },
        "id": "3z5jU0mlQANa",
        "outputId": "8b5b1870-a6ae-40d8-cdb1-1f8889f4ac77"
      },
      "execution_count": 20,
      "outputs": [
        {
          "output_type": "execute_result",
          "data": {
            "text/plain": [
              "888"
            ]
          },
          "metadata": {},
          "execution_count": 20
        }
      ]
    },
    {
      "cell_type": "code",
      "source": [
        "kws = feats[kws_ind]"
      ],
      "metadata": {
        "id": "_cNcvTMEQKez"
      },
      "execution_count": 21,
      "outputs": []
    },
    {
      "cell_type": "code",
      "source": [
        "kws[:100]"
      ],
      "metadata": {
        "colab": {
          "base_uri": "https://localhost:8080/"
        },
        "id": "FTPDzMVLQ6hU",
        "outputId": "c616a8c4-cd48-442b-af5d-b98ebd3ba921"
      },
      "execution_count": 22,
      "outputs": [
        {
          "output_type": "execute_result",
          "data": {
            "text/plain": [
              "array(['accessory', 'action', 'adult dog', 'adult dry cat', 'adult wet',\n",
              "       'advanced', 'aid', 'air', 'air pump', 'airline', 'algae',\n",
              "       'allnatural', 'american', 'amp', 'amp cat', 'amp chewy',\n",
              "       'amp chicken', 'amp odor remover', 'amp rice', 'animal', 'animals',\n",
              "       'anti', 'api', 'aqua', 'aquarium', 'aquariums', 'arm',\n",
              "       'arm amp hammer', 'assorted', 'assorted colors', 'attachment',\n",
              "       'auto', 'automatic', 'available', 'bacon', 'bag', 'bags', 'ball',\n",
              "       'ball dog', 'ball dog toy', 'balls', 'bark', 'bark collar',\n",
              "       'bark control', 'bath', 'bear', 'bed', 'bedding', 'beef', 'beige',\n",
              "       'belt', 'bergan', 'big', 'bio', 'bird', 'bird food', 'bird toy',\n",
              "       'birds', 'biscuits', 'bites', 'bitesized', 'bitesized chews',\n",
              "       'black', 'blade', 'blend', 'blue', 'blue buffalo', 'bone',\n",
              "       'bone dog', 'bones', 'bonus', 'booda', 'booster', 'bottle', 'bowl',\n",
              "       'box', 'braided', 'brand', 'breath', 'breed', 'brown',\n",
              "       'brown rice', 'browns', 'brush', 'buddy', 'buddy biscuits',\n",
              "       'buffalo', 'bully', 'bully sticks', 'bungee', 'busy', 'busy buddy',\n",
              "       'cadet', 'cage', 'calming', 'calorie', 'canin', 'canine',\n",
              "       'canister', 'canister filter'], dtype=object)"
            ]
          },
          "metadata": {},
          "execution_count": 22
        }
      ]
    },
    {
      "cell_type": "markdown",
      "source": [
        "фильтрация"
      ],
      "metadata": {
        "id": "mY55vNXES5lY"
      }
    },
    {
      "cell_type": "code",
      "source": [
        "import spacy\n",
        "\n",
        "nlp = spacy.load('en_core_web_sm')"
      ],
      "metadata": {
        "id": "p2gYhfsiReYQ"
      },
      "execution_count": 23,
      "outputs": []
    },
    {
      "cell_type": "code",
      "source": [
        "final = set()"
      ],
      "metadata": {
        "id": "LbHiAmNCSI_W"
      },
      "execution_count": 24,
      "outputs": []
    },
    {
      "cell_type": "code",
      "source": [
        "for el in kws:\n",
        "    if ' ' not in el:\n",
        "        doc = nlp(el)\n",
        "        pos = [token.pos_ for token in doc]\n",
        "        if pos[0] != 'NOUN': # если униграмма - должно быть существительное\n",
        "            continue\n",
        "        if el in ['cat', 'cats', 'dog', 'dogs']: # возможное улучшение - взять норм список животных\n",
        "            continue\n",
        "    \n",
        "    final.add(el)"
      ],
      "metadata": {
        "id": "df1uIjtCRhkZ"
      },
      "execution_count": 25,
      "outputs": []
    },
    {
      "cell_type": "code",
      "source": [
        "len(final)"
      ],
      "metadata": {
        "colab": {
          "base_uri": "https://localhost:8080/"
        },
        "id": "vq_rr52JSOk5",
        "outputId": "c8c84b0d-1c0d-4b59-a846-1855fea77f69"
      },
      "execution_count": 26,
      "outputs": [
        {
          "output_type": "execute_result",
          "data": {
            "text/plain": [
              "468"
            ]
          },
          "metadata": {},
          "execution_count": 26
        }
      ]
    },
    {
      "cell_type": "code",
      "source": [
        "final"
      ],
      "metadata": {
        "id": "JsfxSTOkSRka"
      },
      "execution_count": null,
      "outputs": []
    },
    {
      "cell_type": "code",
      "source": [
        ""
      ],
      "metadata": {
        "id": "Nn_uhU6hWdtu"
      },
      "execution_count": null,
      "outputs": []
    },
    {
      "cell_type": "markdown",
      "metadata": {
        "id": "xRNiZyeAN2fI"
      },
      "source": [
        "## (3 балла) Ранжируйте n-граммы с помощью 3 коллокационных метрик (t-score, PMI и т.д.). Не забудьте про частотный фильтр / сглаживание. Выберите лучший результат (какая метрика ранжирует выше коллокации, подходящие для отчёта)."
      ]
    },
    {
      "cell_type": "code",
      "source": [
        "len(titles)"
      ],
      "metadata": {
        "colab": {
          "base_uri": "https://localhost:8080/"
        },
        "id": "9RahIenu2lbo",
        "outputId": "8472aa42-4e4f-48d6-a8b7-567744e6b29f"
      },
      "execution_count": 37,
      "outputs": [
        {
          "output_type": "execute_result",
          "data": {
            "text/plain": [
              "4820"
            ]
          },
          "metadata": {},
          "execution_count": 37
        }
      ]
    },
    {
      "cell_type": "code",
      "source": [
        "temp = [el.split() for el in titles]\n",
        "temp[:10]"
      ],
      "metadata": {
        "id": "tNhwyZgA2p5h"
      },
      "execution_count": null,
      "outputs": []
    },
    {
      "cell_type": "code",
      "source": [
        ""
      ],
      "metadata": {
        "id": "mfCd8JWT2pwt"
      },
      "execution_count": null,
      "outputs": []
    },
    {
      "cell_type": "markdown",
      "source": [
        "на биграммах лучшие результаты показывает t score"
      ],
      "metadata": {
        "id": "hQH0HDTm4Pii"
      }
    },
    {
      "cell_type": "code",
      "metadata": {
        "id": "Xew70cOtN3Ft",
        "colab": {
          "base_uri": "https://localhost:8080/"
        },
        "outputId": "3258758a-4893-42eb-ba00-e6e5f9245e09"
      },
      "source": [
        "import nltk\n",
        "from nltk.collocations import *\n",
        "\n",
        "# тк до этого я собирала 1, 2 и 3 граммы теперь понадобятся 4 граммы\n",
        "bigram_measures = nltk.collocations.BigramAssocMeasures()\n",
        "\n",
        "finder2 = BigramCollocationFinder.from_documents([el.split() for el in titles])\n",
        "\n",
        "# frequency filter\n",
        "finder2.apply_freq_filter(2)\n",
        "\n",
        "print('pmi')\n",
        "print(finder2.nbest(bigram_measures.pmi, 10))\n",
        "print('likelihood_ratio')\n",
        "print(finder2.nbest(bigram_measures.likelihood_ratio, 10))\n",
        "print('student_t')\n",
        "print(finder2.nbest(bigram_measures.student_t, 10))\n"
      ],
      "execution_count": 42,
      "outputs": [
        {
          "output_type": "stream",
          "name": "stdout",
          "text": [
            "pmi\n",
            "[('abe', 'chemipure'), ('au', 'jus'), ('belly', 'band'), ('clinically', 'proven'), ('dogwidgets', 'dw'), ('ecosphere', 'closed'), ('evriholder', 'furemover'), ('figure', 'eight'), ('hdc', 'yaky'), ('hearrrt', 'attack')]\n",
            "likelihood_ratio\n",
            "[('for', 'dogs'), ('pack', 'of'), ('outward', 'hound'), ('dog', 'toy'), ('for', 'cats'), ('zoo', 'med'), ('stainless', 'steel'), ('cat', 'food'), ('grain', 'free'), ('dog', 'treats')]\n",
            "student_t\n",
            "[('for', 'dogs'), ('dog', 'toy'), ('dog', 'food'), ('cat', 'food'), ('for', 'cats'), ('dog', 'treats'), ('pack', 'of'), ('dry', 'dog'), ('cat', 'toy'), ('cat', 'litter')]\n"
          ]
        }
      ]
    },
    {
      "cell_type": "markdown",
      "source": [
        "на триграммах снова pmi показывает самый странный результат. лучше всех сработало likelihood_ratio"
      ],
      "metadata": {
        "id": "cs6b7OYJ4uC6"
      }
    },
    {
      "cell_type": "code",
      "source": [
        "trigram_measures = nltk.collocations.TrigramAssocMeasures()\n",
        "finder3 = TrigramCollocationFinder.from_documents([el.split() for el in titles])\n",
        "finder3.apply_freq_filter(2)\n",
        "print('pmi')\n",
        "print(finder3.nbest(trigram_measures.pmi, 10))\n",
        "print('likelihood_ratio')\n",
        "print(finder3.nbest(trigram_measures.likelihood_ratio, 10))\n",
        "print('student_t')\n",
        "print(finder3.nbest(trigram_measures.student_t, 10))"
      ],
      "metadata": {
        "colab": {
          "base_uri": "https://localhost:8080/"
        },
        "id": "_DGqDLxj3uWE",
        "outputId": "cea84125-545d-41a3-e35f-5f305eb3cf8f"
      },
      "execution_count": 43,
      "outputs": [
        {
          "output_type": "stream",
          "name": "stdout",
          "text": [
            "pmi\n",
            "[('enterprises', 'abe', 'chemipure'), ('notification', 'adhesive', 'backed'), ('pearilized', 'pebble', 'hungry'), ('ecotrition', 'snak', 'shak'), ('nongmo', 'project', 'verified'), ('nyantomo', 'purr', 'fect'), ('boyd', 'enterprises', 'abe'), ('beneful', 'prepared', 'meals'), ('pacific', 'pawdoodles', 'krinklers'), ('know', 'when', 'itrsquos')]\n",
            "likelihood_ratio\n",
            "[('dry', 'dog', 'food'), ('dry', 'cat', 'food'), ('for', 'dogs', 'and'), ('supplement', 'for', 'dogs'), ('for', 'dogs', 'ounce'), ('treats', 'for', 'dogs'), ('shampoo', 'for', 'dogs'), ('for', 'dogs', 'count'), ('sticks', 'for', 'dogs'), ('tablets', 'for', 'dogs')]\n",
            "student_t\n",
            "[('dry', 'dog', 'food'), ('dry', 'cat', 'food'), ('jw', 'pet', 'company'), ('for', 'dogs', 'and'), ('dogs', 'and', 'cats'), ('wet', 'cat', 'food'), ('dog', 'and', 'cat'), ('outward', 'hound', 'kyjen'), ('made', 'in', 'usa'), ('colors', 'may', 'vary')]\n"
          ]
        }
      ]
    },
    {
      "cell_type": "code",
      "metadata": {
        "id": "MlimHtv1N5nY"
      },
      "source": [
        ""
      ],
      "execution_count": null,
      "outputs": []
    }
  ]
}